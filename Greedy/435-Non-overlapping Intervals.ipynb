{
 "cells": [
  {
   "cell_type": "code",
   "execution_count": 1,
   "id": "4d818d89-acc5-48b5-831c-de2305d09709",
   "metadata": {},
   "outputs": [],
   "source": [
    "# https://leetcode.com/problems/non-overlapping-intervals/description/"
   ]
  },
  {
   "cell_type": "code",
   "execution_count": 2,
   "id": "d5b404e8-5136-4568-baff-cb5f006d9acc",
   "metadata": {},
   "outputs": [],
   "source": [
    "# Given an array of intervals, return the minimum number of intervals you need to remove to make the rest\n",
    "# of the intervals non-overlapping\n",
    "\n",
    "# Intuition: this is equivalent to keeping maximum number of non-overlapping intervals\n",
    "# to avoid overlap, we should always greedily choose the interval with an earlier end time x"
   ]
  },
  {
   "cell_type": "code",
   "execution_count": 7,
   "id": "270f1a17-044d-4c8b-a700-89ee5c3546a2",
   "metadata": {},
   "outputs": [],
   "source": [
    "class Solution(object):\n",
    "    def eraseOverlapIntervals(self, intervals):\n",
    "        # equivalent to maximum number of non-overlapping intervals\n",
    "        # To avoid overlap, We should always greedily choose the interval with an earlier end time x\n",
    "        intervals.sort(key = lambda x: x[1])\n",
    "        ans = 0\n",
    "        last_end_time = float('-inf') # last end time\n",
    "        \n",
    "        for start_time, end_time in intervals:\n",
    "            if start_time >= last_end_time:\n",
    "                # Case 1: curr start time >= last_end_time, no need to remove\n",
    "                last_end_time = end_time # new latest end time\n",
    "            else:\n",
    "                # Case 2: curr_start_time < last_end_time, need to remove\n",
    "                ans += 1\n",
    "        return ans"
   ]
  },
  {
   "cell_type": "code",
   "execution_count": 8,
   "id": "f9d199ae-b27d-468f-9ef4-c713e4446ee9",
   "metadata": {},
   "outputs": [
    {
     "data": {
      "text/plain": [
       "1"
      ]
     },
     "execution_count": 8,
     "metadata": {},
     "output_type": "execute_result"
    }
   ],
   "source": [
    "intervals = [[1,2],[2,3],[3,4],[1,3]]\n",
    "\n",
    "sol = Solution()\n",
    "sol.eraseOverlapIntervals(intervals)"
   ]
  },
  {
   "cell_type": "code",
   "execution_count": 9,
   "id": "01fa4611-c398-43f5-85a7-290bfb8d1ba6",
   "metadata": {},
   "outputs": [],
   "source": [
    "# Time: O(nlogn) + O(n)\n",
    "# Space: O(n), because python sort requries O(n) space complexity"
   ]
  }
 ],
 "metadata": {
  "kernelspec": {
   "display_name": "Python 3 (ipykernel)",
   "language": "python",
   "name": "python3"
  },
  "language_info": {
   "codemirror_mode": {
    "name": "ipython",
    "version": 3
   },
   "file_extension": ".py",
   "mimetype": "text/x-python",
   "name": "python",
   "nbconvert_exporter": "python",
   "pygments_lexer": "ipython3",
   "version": "3.12.3"
  }
 },
 "nbformat": 4,
 "nbformat_minor": 5
}
