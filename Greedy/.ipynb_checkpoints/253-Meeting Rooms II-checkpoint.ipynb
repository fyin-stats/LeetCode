{
 "cells": [
  {
   "cell_type": "code",
   "execution_count": 1,
   "id": "89a37d56-5d9e-4d7c-b2b0-e13e794ffae5",
   "metadata": {},
   "outputs": [],
   "source": [
    "# https://leetcode.com/problems/meeting-rooms-ii/description/"
   ]
  },
  {
   "cell_type": "code",
   "execution_count": 3,
   "id": "95fdb6e7-9e41-4e60-8dba-84ec6b1441b6",
   "metadata": {},
   "outputs": [],
   "source": [
    "# Problem Description: Given an array of meeting time intervals where intervals[i] = [start_i, end_i], return the\n",
    "# minimum number of conference rooms required\n",
    "\n",
    "# Intuition: this problem is equivalent to find the maximum number of concurrent meetings given any time point\n",
    "# to determine whether a meeting is still ongoing, we just need to check if the current time is >= end_time\n",
    "# we can use a heap to keep track of the end time of ongoing meetings"
   ]
  },
  {
   "cell_type": "code",
   "execution_count": 11,
   "id": "e72c5590-7606-4647-96c4-bfb1ff283776",
   "metadata": {},
   "outputs": [],
   "source": [
    "import heapq\n",
    "\n",
    "class Solution:\n",
    "    def minMeetingRooms(self, intervals):\n",
    "        # edge case when intervals is empty\n",
    "        if not intervals:\n",
    "            return 0\n",
    "        intervals.sort(key = lambda x: x[0]) # sort intervals by starting time as we want to iterate through the meetings by starting time\n",
    "        heap = [] # use a min heap to keep track of the meeting end times\n",
    "        heapq.heappush(heap, intervals[0][1])\n",
    "        result = 1 # given intervals not empty -> we have at least one meeting -> we need at least one meeting room\n",
    "        for i in range(1, len(intervals)):\n",
    "            curr_start_time, curr_end_time = intervals[i]\n",
    "            # check how many meetings would end before curr_start_time\n",
    "            while heap and curr_start_time >= heap[0]:\n",
    "                # note that only new meeting starts would lead to the need for more meeting rooms\n",
    "                heapq.heappop(heap)\n",
    "            heapq.heappush(heap, curr_end_time) # new meeting added, heappush requires O(logn)\n",
    "            result = max(result, len(heap))\n",
    "        return result"
   ]
  },
  {
   "cell_type": "code",
   "execution_count": 8,
   "id": "5ba0d259-494d-4b77-a5ff-13dc45390173",
   "metadata": {},
   "outputs": [
    {
     "name": "stdout",
     "output_type": "stream",
     "text": [
      "2\n",
      "1\n"
     ]
    }
   ],
   "source": [
    "sol = Solution()\n",
    "print(sol.minMeetingRooms([[0,30],[5,10],[15,20]]))\n",
    "print(sol.minMeetingRooms([[7,10],[2,4]]))"
   ]
  },
  {
   "cell_type": "code",
   "execution_count": 10,
   "id": "230bdff2-ca35-4c46-88ed-bacb222597a6",
   "metadata": {},
   "outputs": [],
   "source": [
    "# Time: O(nlogn) + O(nlogn) = O(nlogn) b/c sorting and heap \n",
    "# Space: O(n), sorting and heap"
   ]
  }
 ],
 "metadata": {
  "kernelspec": {
   "display_name": "Python 3 (ipykernel)",
   "language": "python",
   "name": "python3"
  },
  "language_info": {
   "codemirror_mode": {
    "name": "ipython",
    "version": 3
   },
   "file_extension": ".py",
   "mimetype": "text/x-python",
   "name": "python",
   "nbconvert_exporter": "python",
   "pygments_lexer": "ipython3",
   "version": "3.12.3"
  }
 },
 "nbformat": 4,
 "nbformat_minor": 5
}
