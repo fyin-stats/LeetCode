{
 "cells": [
  {
   "cell_type": "code",
   "execution_count": 1,
   "id": "a68407e4-1117-4a37-bee6-f8dbe6db5527",
   "metadata": {},
   "outputs": [],
   "source": [
    "# https://leetcode.com/problems/divide-array-in-sets-of-k-consecutive-numbers/description/"
   ]
  },
  {
   "cell_type": "code",
   "execution_count": 2,
   "id": "f322c749-a853-4e0b-af30-09c8f2030e70",
   "metadata": {},
   "outputs": [],
   "source": [
    "# intuition: build up solution in a greedy manner, always start with the smallest number with non-zero count, and keep searching"
   ]
  },
  {
   "cell_type": "code",
   "execution_count": 6,
   "id": "a92c010e-2baf-4706-aa68-040e0b6e345e",
   "metadata": {},
   "outputs": [],
   "source": [
    "from collections import Counter\n",
    "\n",
    "class Solution:\n",
    "    def isPossibleDivide(self, nums, k):\n",
    "        \n",
    "        n = len(nums)\n",
    "        # edge case\n",
    "        if n % k != 0:\n",
    "            return False\n",
    "        \n",
    "        nums_counter = Counter(nums)\n",
    "        nums.sort()\n",
    "        \n",
    "        # create a pointer that always points to the smallest number with non-zero count in the remainders\n",
    "        i = 0\n",
    "        while i < n:\n",
    "            # create a size-k set of consecutive numbers, starting from nums[i]\n",
    "            for j in range(k):\n",
    "                if nums_counter[nums[i] + j] > 0:\n",
    "                    nums_counter[nums[i] + j] -= 1\n",
    "                else:\n",
    "                    return False\n",
    "            while i < n and nums_counter[nums[i]] <= 0:\n",
    "                # find the next starting point\n",
    "                i += 1\n",
    "            \n",
    "        return True"
   ]
  },
  {
   "cell_type": "code",
   "execution_count": 7,
   "id": "0e558012-8db9-4753-9136-758eb45ff488",
   "metadata": {},
   "outputs": [
    {
     "data": {
      "text/plain": [
       "True"
      ]
     },
     "execution_count": 7,
     "metadata": {},
     "output_type": "execute_result"
    }
   ],
   "source": [
    "nums = [3,2,1,2,3,4,3,4,5,9,10,11]\n",
    "k = 3\n",
    "\n",
    "sol = Solution()\n",
    "sol.isPossibleDivide(nums, k)"
   ]
  },
  {
   "cell_type": "code",
   "execution_count": 9,
   "id": "c6233faa-760a-4645-b47c-8229104c0844",
   "metadata": {},
   "outputs": [],
   "source": [
    "# Time: O(nlogn)\n",
    "# sort: O(nlogn)\n",
    "# build answer: O(n)\n",
    "\n",
    "# Space: O(n), counter"
   ]
  }
 ],
 "metadata": {
  "kernelspec": {
   "display_name": "Python 3 (ipykernel)",
   "language": "python",
   "name": "python3"
  },
  "language_info": {
   "codemirror_mode": {
    "name": "ipython",
    "version": 3
   },
   "file_extension": ".py",
   "mimetype": "text/x-python",
   "name": "python",
   "nbconvert_exporter": "python",
   "pygments_lexer": "ipython3",
   "version": "3.12.3"
  }
 },
 "nbformat": 4,
 "nbformat_minor": 5
}
