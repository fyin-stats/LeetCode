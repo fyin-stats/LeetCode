{
 "cells": [
  {
   "cell_type": "code",
   "execution_count": 1,
   "id": "023277d8-8446-4988-9a3c-4da8b6202df8",
   "metadata": {},
   "outputs": [],
   "source": [
    "# https://leetcode.com/problems/number-of-sub-arrays-with-odd-sum/description/?envType=daily-question&envId=2025-02-25"
   ]
  },
  {
   "cell_type": "code",
   "execution_count": 4,
   "id": "3b493bad-dd20-4074-be66-4ff3fb66d0ae",
   "metadata": {},
   "outputs": [],
   "source": [
    "# Intuition: note that subarray corresponds to contiguous list of numbers\n",
    "# we sweep through the array, and use a hashmap to keep track of the number of odd-sum\n",
    "# and even-sum subarrays seen\n",
    "# then keep building the solution"
   ]
  },
  {
   "cell_type": "code",
   "execution_count": 3,
   "id": "0cfa4373-7637-4555-8eca-dc96ed42b272",
   "metadata": {},
   "outputs": [],
   "source": [
    "class Solution:\n",
    "    def numOfSubarrays(self, arr):\n",
    "        \n",
    "        # questions\n",
    "        # how do you define subarray? is it contiguous?\n",
    "        # idea: given an index i, count the number of subarrays with odd sum\n",
    "        # ending at i\n",
    "        # this would require us to know the number of subarrays with odd sum\n",
    "        # and even sum visited\n",
    "        \n",
    "        seen = {0: 1, 1: 0} # empty subarray has sum = 0\n",
    "        n = len(arr)\n",
    "        result = 0\n",
    "        curr_sum = 0\n",
    "        for i in range(n):\n",
    "            curr_sum += arr[i]\n",
    "            odd_flag = curr_sum % 2\n",
    "            if odd_flag:\n",
    "                result += seen[0]\n",
    "            else:\n",
    "                result += seen[1]\n",
    "            seen[odd_flag] += 1\n",
    "        return result % (10**9 + 7)"
   ]
  },
  {
   "cell_type": "code",
   "execution_count": 5,
   "id": "419b7048-6aec-487e-b88c-6144216e3001",
   "metadata": {},
   "outputs": [
    {
     "data": {
      "text/plain": [
       "4"
      ]
     },
     "execution_count": 5,
     "metadata": {},
     "output_type": "execute_result"
    }
   ],
   "source": [
    "sol = Solution()\n",
    "sol.numOfSubarrays([1,3,5])"
   ]
  },
  {
   "cell_type": "code",
   "execution_count": 6,
   "id": "eed2689c-3fbf-4b4c-8f09-f2e677ee355f",
   "metadata": {},
   "outputs": [],
   "source": [
    "# time complexity: O(n)\n",
    "# space complexity: O(1)"
   ]
  }
 ],
 "metadata": {
  "kernelspec": {
   "display_name": "Python 3 (ipykernel)",
   "language": "python",
   "name": "python3"
  },
  "language_info": {
   "codemirror_mode": {
    "name": "ipython",
    "version": 3
   },
   "file_extension": ".py",
   "mimetype": "text/x-python",
   "name": "python",
   "nbconvert_exporter": "python",
   "pygments_lexer": "ipython3",
   "version": "3.12.3"
  }
 },
 "nbformat": 4,
 "nbformat_minor": 5
}
