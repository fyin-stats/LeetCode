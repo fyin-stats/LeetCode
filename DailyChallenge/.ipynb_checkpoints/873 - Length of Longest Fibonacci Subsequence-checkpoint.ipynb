{
 "cells": [
  {
   "cell_type": "code",
   "execution_count": 3,
   "id": "1d5b80d2-29da-4e39-96a0-d053be70f627",
   "metadata": {},
   "outputs": [],
   "source": [
    "# https://leetcode.com/problems/length-of-longest-fibonacci-subsequence/"
   ]
  },
  {
   "cell_type": "code",
   "execution_count": 4,
   "id": "18c9b761-1df5-4a26-b56e-3d0ab02a9f61",
   "metadata": {},
   "outputs": [],
   "source": [
    "# Intuition: Given problem size, it seems to make sense for us to do nested loops\n",
    "# To build a fibonacci number seq, we need to keep track of the previous two numbers\n",
    "# to facilitate number finding, it may make sense for us to create a hash set for numbers in the array"
   ]
  },
  {
   "cell_type": "code",
   "execution_count": 5,
   "id": "d42734f2-009a-4d56-8a0f-0baf64c5ac8c",
   "metadata": {},
   "outputs": [],
   "source": [
    "class Solution(object):\n",
    "    def lenLongestFibSubseq(self, arr):\n",
    "        \"\"\"\n",
    "        :type arr: List[int]\n",
    "        :rtype: int\n",
    "        \"\"\"\n",
    "        \n",
    "        n = len(arr)\n",
    "        arr_set = set(arr)\n",
    "        result = 0 # worst case is zero\n",
    "\n",
    "        for start in range(n - 1):\n",
    "            for nxt in range(start + 1, n):\n",
    "                prev = arr[nxt]\n",
    "                curr = arr[start] + arr[nxt]\n",
    "                curr_len = 2\n",
    "            \n",
    "                while curr in arr_set:\n",
    "                    prev, curr = curr, curr + prev\n",
    "                    curr_len += 1\n",
    "                    result = max(curr_len, result)\n",
    "        \n",
    "        return result"
   ]
  },
  {
   "cell_type": "code",
   "execution_count": 6,
   "id": "3a6ce40c-3e4c-420e-915d-b95033bde8f9",
   "metadata": {},
   "outputs": [
    {
     "data": {
      "text/plain": [
       "5"
      ]
     },
     "execution_count": 6,
     "metadata": {},
     "output_type": "execute_result"
    }
   ],
   "source": [
    "arr = [1,2,3,4,5,6,7,8]\n",
    "\n",
    "sol = Solution()\n",
    "sol.lenLongestFibSubseq(arr)"
   ]
  },
  {
   "cell_type": "code",
   "execution_count": 7,
   "id": "0b76e70f-c219-4414-ad35-0a7a2ea6eac2",
   "metadata": {},
   "outputs": [],
   "source": [
    "# Time: O(n)\n",
    "# Space: O(n)"
   ]
  }
 ],
 "metadata": {
  "kernelspec": {
   "display_name": "Python 3 (ipykernel)",
   "language": "python",
   "name": "python3"
  },
  "language_info": {
   "codemirror_mode": {
    "name": "ipython",
    "version": 3
   },
   "file_extension": ".py",
   "mimetype": "text/x-python",
   "name": "python",
   "nbconvert_exporter": "python",
   "pygments_lexer": "ipython3",
   "version": "3.12.3"
  }
 },
 "nbformat": 4,
 "nbformat_minor": 5
}
