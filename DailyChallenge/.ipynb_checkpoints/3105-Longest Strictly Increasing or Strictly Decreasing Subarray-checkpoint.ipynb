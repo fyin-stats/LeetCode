{
 "cells": [
  {
   "cell_type": "code",
   "execution_count": 1,
   "id": "902e179e-a1cc-4515-af90-803bbaa0ce56",
   "metadata": {},
   "outputs": [],
   "source": [
    "# https://leetcode.com/problems/longest-strictly-increasing-or-strictly-decreasing-subarray/description/"
   ]
  },
  {
   "cell_type": "code",
   "execution_count": 2,
   "id": "8498e542-9ea6-4acd-8e35-91a18cb98b9f",
   "metadata": {},
   "outputs": [],
   "source": [
    "# intuition: strictly increasing or decreasing subarray, we can get the maximum through a single pass\n",
    "# while we sweep through the array"
   ]
  },
  {
   "cell_type": "code",
   "execution_count": 3,
   "id": "5cafa4cc-065f-4136-9401-8f97da25638f",
   "metadata": {},
   "outputs": [],
   "source": [
    "class Solution:\n",
    "    def longestMonotonicSubarray(self, nums):\n",
    "        \n",
    "        # find the length of longest increasing/decreasing subarray\n",
    "        # and then return the max of these two numbers\n",
    "        \n",
    "        n = len(nums)\n",
    "        # find longest increasing subarray\n",
    "        prev_num = float('-inf')\n",
    "        curr_increasing_len = 0\n",
    "        max_increasing_len = 0\n",
    "        i = 0\n",
    "\n",
    "        while i < n:\n",
    "            if nums[i] > prev_num:\n",
    "                curr_increasing_len += 1\n",
    "                max_increasing_len = max(max_increasing_len, curr_increasing_len)\n",
    "            else:\n",
    "                # current increasing subarray breaks\n",
    "                curr_increasing_len = 1\n",
    "            prev_num = nums[i]\n",
    "            i += 1\n",
    "        \n",
    "        # find longest decreasing subarray\n",
    "        prev_num = float('inf')\n",
    "        curr_decreasing_len = 0\n",
    "        max_decreasing_len = 0\n",
    "        i = 0\n",
    "        while i < n:\n",
    "            if nums[i] < prev_num:\n",
    "                curr_decreasing_len += 1\n",
    "                max_decreasing_len = max(max_decreasing_len, curr_decreasing_len)\n",
    "            else:\n",
    "                # current decreasing subarray breaks\n",
    "                curr_decreasing_len = 1\n",
    "            prev_num = nums[i]\n",
    "            i += 1\n",
    "        return max(max_increasing_len, max_decreasing_len)"
   ]
  },
  {
   "cell_type": "code",
   "execution_count": 5,
   "id": "8a32c84b-f415-42d0-acf3-b444f0499b7b",
   "metadata": {},
   "outputs": [
    {
     "data": {
      "text/plain": [
       "2"
      ]
     },
     "execution_count": 5,
     "metadata": {},
     "output_type": "execute_result"
    }
   ],
   "source": [
    "sol = Solution()\n",
    "sol.longestMonotonicSubarray([1,4,3,3,2])\n",
    "# longest increasing: [1,4] -> 2\n",
    "# longest decreasing: [4,3], [3,2] -> 2"
   ]
  },
  {
   "cell_type": "code",
   "execution_count": 6,
   "id": "5632d938-1fcd-44f6-be56-89c9b6e25be5",
   "metadata": {},
   "outputs": [],
   "source": [
    "# Time: O(n)\n",
    "# Space: O(1)"
   ]
  }
 ],
 "metadata": {
  "kernelspec": {
   "display_name": "Python 3 (ipykernel)",
   "language": "python",
   "name": "python3"
  },
  "language_info": {
   "codemirror_mode": {
    "name": "ipython",
    "version": 3
   },
   "file_extension": ".py",
   "mimetype": "text/x-python",
   "name": "python",
   "nbconvert_exporter": "python",
   "pygments_lexer": "ipython3",
   "version": "3.12.3"
  }
 },
 "nbformat": 4,
 "nbformat_minor": 5
}
