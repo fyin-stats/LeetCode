{
 "cells": [
  {
   "cell_type": "code",
   "execution_count": 1,
   "id": "27e01d51-9ce3-4dad-9a92-60ea8f9399df",
   "metadata": {},
   "outputs": [],
   "source": [
    "# https://leetcode.com/problems/count-number-of-bad-pairs/description/?envType=daily-question&envId=2025-02-09"
   ]
  },
  {
   "cell_type": "code",
   "execution_count": 6,
   "id": "d5bc7fa1-a546-45be-a4ed-b27905ba1730",
   "metadata": {},
   "outputs": [],
   "source": [
    "# Intuition: we know the total number of pairs, and the definition of bad pairs (which is not very straightforward to handle)\n",
    "# maybe we can compute the number of bad pairs by taking the difference between total number of pairs and the number of non-bad (good) pairs"
   ]
  },
  {
   "cell_type": "code",
   "execution_count": 3,
   "id": "54299756-29ef-442c-b985-f3616b34f461",
   "metadata": {},
   "outputs": [],
   "source": [
    "class Solution:\n",
    "    def countBadPairs(self, nums):\n",
    "        \n",
    "        # time: O(n)\n",
    "        # space: O(n), b/c hashmap\n",
    "        # if we know all pairs and find all non-bad paris, then we know the number of bad pairs\n",
    "        n = len(nums)\n",
    "        total_pairs = n*(n-1)//2\n",
    "        non_bad_pairs = 0\n",
    "        # non-bad pairs: i < j, s.t., j - i == nums[j] - nums[i]\n",
    "        # i.e. j - nums[j] == i - nums[i]\n",
    "        # therefore, let's keep track (i - nums[i]) seen\n",
    "        seen = dict()\n",
    "        for i in range(n):\n",
    "            if (i - nums[i]) in seen:\n",
    "                non_bad_pairs += seen[i-nums[i]]\n",
    "                seen[i-nums[i]] += 1\n",
    "            else:\n",
    "                seen[i-nums[i]] = 1\n",
    "        return total_pairs - non_bad_pairs"
   ]
  },
  {
   "cell_type": "code",
   "execution_count": 4,
   "id": "95d2d719-4422-4952-b1af-2249af687c33",
   "metadata": {},
   "outputs": [
    {
     "data": {
      "text/plain": [
       "5"
      ]
     },
     "execution_count": 4,
     "metadata": {},
     "output_type": "execute_result"
    }
   ],
   "source": [
    "sol = Solution()\n",
    "sol.countBadPairs([4,1,3,3])"
   ]
  },
  {
   "cell_type": "code",
   "execution_count": 5,
   "id": "90ad9142-c4b4-4d7c-b7c5-5089de2f822c",
   "metadata": {},
   "outputs": [],
   "source": [
    "# Time: O(n), b/c we only visit each number once\n",
    "# Space: O(n), hashmap can have size up to n"
   ]
  }
 ],
 "metadata": {
  "kernelspec": {
   "display_name": "Python 3 (ipykernel)",
   "language": "python",
   "name": "python3"
  },
  "language_info": {
   "codemirror_mode": {
    "name": "ipython",
    "version": 3
   },
   "file_extension": ".py",
   "mimetype": "text/x-python",
   "name": "python",
   "nbconvert_exporter": "python",
   "pygments_lexer": "ipython3",
   "version": "3.12.3"
  }
 },
 "nbformat": 4,
 "nbformat_minor": 5
}
