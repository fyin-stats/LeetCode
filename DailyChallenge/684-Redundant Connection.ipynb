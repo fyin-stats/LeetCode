{
 "cells": [
  {
   "cell_type": "code",
   "execution_count": 1,
   "id": "a6304611-b359-4987-8af6-f2214f211c61",
   "metadata": {},
   "outputs": [],
   "source": [
    "# https://leetcode.com/problems/redundant-connection/description/"
   ]
  },
  {
   "cell_type": "code",
   "execution_count": 2,
   "id": "37d6709a-3a30-4f98-8da2-8e01c6428d65",
   "metadata": {},
   "outputs": [],
   "source": [
    "# intuition: Given the size of the graph is not crazy, I'm thinking about\n",
    "# doing traversal to find the last edge that is redundant (i.e., removing it\n",
    "# would still leave us a complete graph)"
   ]
  },
  {
   "cell_type": "code",
   "execution_count": 6,
   "id": "d33b757d-a369-4f2a-9862-414adbeee84a",
   "metadata": {},
   "outputs": [],
   "source": [
    "from collections import deque\n",
    "\n",
    "class Solution:\n",
    "    def findRedundantConnection(self, edges):\n",
    "        \n",
    "        # time: O(n) + O(n^2)\n",
    "        # space: O(n)\n",
    "        # construct an adjacency matrix\n",
    "        n = len(edges)\n",
    "        adj = {i: set() for i in range(1, n+1)}\n",
    "        for u, v in edges:\n",
    "            adj[u].add(v)\n",
    "            adj[v].add(u)\n",
    "        \n",
    "        # try removing each edge, it is redundant if removing it would still\n",
    "        # leave us with a connected graph\n",
    "        for i in range(n - 1, -1, -1):\n",
    "            u, v = edges[i]\n",
    "            adj[u].remove(v)\n",
    "            adj[v].remove(u) # make sure to add back after traversal\n",
    "            _queue = deque()\n",
    "            _queue.append(1)\n",
    "            visited = set()\n",
    "            visited.add(1)\n",
    "            while _queue:\n",
    "                curr_node = _queue.popleft()\n",
    "                for temp_node in adj[curr_node]:\n",
    "                    if temp_node not in visited:\n",
    "                        _queue.append(temp_node)\n",
    "                        visited.add(temp_node)\n",
    "            if len(visited) == n:\n",
    "                # redundant\n",
    "                return edges[i]\n",
    "            adj[u].add(v)\n",
    "            adj[v].add(u)"
   ]
  },
  {
   "cell_type": "code",
   "execution_count": 7,
   "id": "0d261206-c94c-48a1-becd-172b2cb227c6",
   "metadata": {},
   "outputs": [
    {
     "data": {
      "text/plain": [
       "[1, 4]"
      ]
     },
     "execution_count": 7,
     "metadata": {},
     "output_type": "execute_result"
    }
   ],
   "source": [
    "edges = [[1,2],[2,3],[3,4],[1,4],[1,5]]\n",
    "\n",
    "sol = Solution()\n",
    "sol.findRedundantConnection(edges)"
   ]
  },
  {
   "cell_type": "code",
   "execution_count": 9,
   "id": "cf52f9ef-b6d4-4e61-bb41-7bfd699776ca",
   "metadata": {},
   "outputs": [],
   "source": [
    "# Time: O(n^2)\n",
    "# Space: O(n)\n",
    "\n",
    "# there is a more advanced solution using union find and I'll learn about union find this\n",
    "# weekend https://leetcode.com/problems/redundant-connection/solutions/851877/python-by-union-find-w-visualization"
   ]
  }
 ],
 "metadata": {
  "kernelspec": {
   "display_name": "Python 3 (ipykernel)",
   "language": "python",
   "name": "python3"
  },
  "language_info": {
   "codemirror_mode": {
    "name": "ipython",
    "version": 3
   },
   "file_extension": ".py",
   "mimetype": "text/x-python",
   "name": "python",
   "nbconvert_exporter": "python",
   "pygments_lexer": "ipython3",
   "version": "3.12.3"
  }
 },
 "nbformat": 4,
 "nbformat_minor": 5
}
