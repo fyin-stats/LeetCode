{
 "cells": [
  {
   "cell_type": "code",
   "execution_count": 1,
   "id": "76ae6b81-2f53-4d39-8e13-b5c9f76d9851",
   "metadata": {},
   "outputs": [],
   "source": [
    "# https://leetcode.com/problems/maximum-absolute-sum-of-any-subarray/description/?envType=daily-question&envId=2025-02-26"
   ]
  },
  {
   "cell_type": "code",
   "execution_count": 4,
   "id": "ab0f9eaa-7ba5-422e-8fcd-b2901e96cb55",
   "metadata": {},
   "outputs": [],
   "source": [
    "# intuition: for the continuous subarray problem with problem size >= 10**5\n",
    "# the idea is usually to use a hashmap to keep track of the subarray sum seen while sweeping through the array\n",
    "# for this problem: as we want to know the max absolute sum of any subarray\n",
    "# as it can be max by being a very negative number or being a very positive number\n",
    "# we need to keep track of the max_pos_sum and min_neg_sum seen"
   ]
  },
  {
   "cell_type": "code",
   "execution_count": 5,
   "id": "ec214c99-6e3e-4bfb-b9c8-523e5fb1194b",
   "metadata": {},
   "outputs": [],
   "source": [
    "class Solution:\n",
    "    def maxAbsoluteSum(self, nums):\n",
    "        \n",
    "        n = len(nums)\n",
    "        # positive max\n",
    "        # negative min\n",
    "        curr_sum = 0\n",
    "        max_pos_sum = 0\n",
    "        min_neg_sum = 0\n",
    "        result = 0\n",
    "        for i in range(n):\n",
    "            curr_sum += nums[i]\n",
    "            result = max([result, abs(curr_sum - max_pos_sum), abs(curr_sum - min_neg_sum)])\n",
    "            if curr_sum > max_pos_sum:\n",
    "                max_pos_sum = curr_sum\n",
    "            if curr_sum < min_neg_sum:\n",
    "                min_neg_sum = curr_sum\n",
    "        return result"
   ]
  },
  {
   "cell_type": "code",
   "execution_count": 6,
   "id": "f3679e6d-b6aa-4fd1-9b84-1089c7bc641f",
   "metadata": {},
   "outputs": [
    {
     "data": {
      "text/plain": [
       "5"
      ]
     },
     "execution_count": 6,
     "metadata": {},
     "output_type": "execute_result"
    }
   ],
   "source": [
    "sol = Solution()\n",
    "sol.maxAbsoluteSum([1,-3,2,3,-4])"
   ]
  },
  {
   "cell_type": "code",
   "execution_count": 8,
   "id": "142586c8-e297-4a10-bf13-5e188834b642",
   "metadata": {},
   "outputs": [],
   "source": [
    "# time: O(n)\n",
    "# space: O(1), b/c we only need to keep track of the max_pos_sum and min_neg_sum"
   ]
  }
 ],
 "metadata": {
  "kernelspec": {
   "display_name": "Python 3 (ipykernel)",
   "language": "python",
   "name": "python3"
  },
  "language_info": {
   "codemirror_mode": {
    "name": "ipython",
    "version": 3
   },
   "file_extension": ".py",
   "mimetype": "text/x-python",
   "name": "python",
   "nbconvert_exporter": "python",
   "pygments_lexer": "ipython3",
   "version": "3.12.3"
  }
 },
 "nbformat": 4,
 "nbformat_minor": 5
}
