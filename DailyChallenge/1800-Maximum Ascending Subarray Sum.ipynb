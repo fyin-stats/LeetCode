{
 "cells": [
  {
   "cell_type": "code",
   "execution_count": 1,
   "id": "9b0fc14b-3df8-4cea-be10-be30000ab0bd",
   "metadata": {},
   "outputs": [],
   "source": [
    "# https://leetcode.com/problems/maximum-ascending-subarray-sum/description/?envType=daily-question&envId=2025-02-04"
   ]
  },
  {
   "cell_type": "code",
   "execution_count": 2,
   "id": "7cafeb81-4692-43a2-a31f-0a8ec8ed9641",
   "metadata": {},
   "outputs": [],
   "source": [
    "# intuition: we note that all numbers are non-negative, the longer the ascending the subarray, the larger the subarray sum\n",
    "# we can keep building each ascending subarray, and keep track of the maximum seen\n",
    "# every time the ascending subarray breaks, we start a new subarray starting from the number that breaks the ascending pattern"
   ]
  },
  {
   "cell_type": "code",
   "execution_count": 3,
   "id": "b3e0513f-513c-4150-95ba-a28afadd23b9",
   "metadata": {},
   "outputs": [],
   "source": [
    "class Solution:\n",
    "    def maxAscendingSum(self, nums):\n",
    "        \n",
    "        # ascending array\n",
    "        # note that all numbers are non-negative, we can continue to build\n",
    "        # the sum\n",
    "        out = 0\n",
    "        n = len(nums)\n",
    "        prev_num = float('-inf')\n",
    "        curr_sum = 0\n",
    "        i = 0\n",
    "\n",
    "        while i < n:\n",
    "            if nums[i] > prev_num:\n",
    "                curr_sum += nums[i]\n",
    "            else:\n",
    "                # previous subarray breaks, reset to this new number\n",
    "                curr_sum = nums[i]\n",
    "            out = max(curr_sum, out)\n",
    "            prev_num = nums[i]\n",
    "            i += 1\n",
    "        return out"
   ]
  },
  {
   "cell_type": "code",
   "execution_count": 4,
   "id": "391137e8-0e6f-4e93-9316-940419e2ea1b",
   "metadata": {},
   "outputs": [
    {
     "data": {
      "text/plain": [
       "65"
      ]
     },
     "execution_count": 4,
     "metadata": {},
     "output_type": "execute_result"
    }
   ],
   "source": [
    "sol = Solution()\n",
    "sol.maxAscendingSum([10,20,30,5,10,50])"
   ]
  },
  {
   "cell_type": "code",
   "execution_count": 5,
   "id": "16250664-82f4-47c1-90b2-1190f3d9d3e2",
   "metadata": {},
   "outputs": [],
   "source": [
    "# Time: O(n)\n",
    "# Space: O(1)"
   ]
  }
 ],
 "metadata": {
  "kernelspec": {
   "display_name": "Python 3 (ipykernel)",
   "language": "python",
   "name": "python3"
  },
  "language_info": {
   "codemirror_mode": {
    "name": "ipython",
    "version": 3
   },
   "file_extension": ".py",
   "mimetype": "text/x-python",
   "name": "python",
   "nbconvert_exporter": "python",
   "pygments_lexer": "ipython3",
   "version": "3.12.3"
  }
 },
 "nbformat": 4,
 "nbformat_minor": 5
}
