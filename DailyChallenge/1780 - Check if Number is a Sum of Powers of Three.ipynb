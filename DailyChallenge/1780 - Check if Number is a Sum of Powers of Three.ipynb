{
 "cells": [
  {
   "cell_type": "code",
   "execution_count": 1,
   "id": "63c70793-8820-47bf-9bd7-af89add0bf74",
   "metadata": {},
   "outputs": [],
   "source": [
    "# https://leetcode.com/problems/check-if-number-is-a-sum-of-powers-of-three/?envType=daily-question&envId=2025-03-04"
   ]
  },
  {
   "cell_type": "code",
   "execution_count": 2,
   "id": "650ef7d5-d355-4a91-85e9-0f351b572994",
   "metadata": {},
   "outputs": [],
   "source": [
    "# Intuition: we can find all possible sum, and then check if the given number falls under the set\n",
    "# a more clever solution would be doing it in a greedy manner, where we first subtract the target number with the largest\n",
    "# possible power of three. The reason why we can do that is b/c 3^0 + ... + 3^(n-1) = (3^n - 1)/2 < 3^n\n",
    "# which means that if we don't take the largest number possible, we would never be able to achieve the target"
   ]
  },
  {
   "cell_type": "code",
   "execution_count": 3,
   "id": "4048804e-b2f1-45a7-8820-b7e4e7901231",
   "metadata": {},
   "outputs": [],
   "source": [
    "class Solution(object):\n",
    "    def checkPowersOfThree(self, n):\n",
    "        \"\"\"\n",
    "        :type n: int\n",
    "        :rtype: bool\n",
    "        \"\"\"\n",
    "        \n",
    "        power = 0\n",
    "        while 3**power <= n:\n",
    "            power += 1\n",
    "        \n",
    "        while n > 0:\n",
    "            if n >= 3**power:\n",
    "                n -= 3**power\n",
    "            if n >= 3**power:\n",
    "                return False\n",
    "            power -= 1\n",
    "        return n == 0"
   ]
  },
  {
   "cell_type": "code",
   "execution_count": 4,
   "id": "6345c0b8-6c03-402b-925c-c46891bdb8f1",
   "metadata": {},
   "outputs": [
    {
     "data": {
      "text/plain": [
       "True"
      ]
     },
     "execution_count": 4,
     "metadata": {},
     "output_type": "execute_result"
    }
   ],
   "source": [
    "sol = Solution()\n",
    "sol.checkPowersOfThree(12)"
   ]
  },
  {
   "cell_type": "code",
   "execution_count": null,
   "id": "5d2060f0-105f-47df-8947-645194c49386",
   "metadata": {},
   "outputs": [],
   "source": [
    "# time: O(log_3 n)\n",
    "# space: O(1)"
   ]
  }
 ],
 "metadata": {
  "kernelspec": {
   "display_name": "Python 3 (ipykernel)",
   "language": "python",
   "name": "python3"
  },
  "language_info": {
   "codemirror_mode": {
    "name": "ipython",
    "version": 3
   },
   "file_extension": ".py",
   "mimetype": "text/x-python",
   "name": "python",
   "nbconvert_exporter": "python",
   "pygments_lexer": "ipython3",
   "version": "3.12.3"
  }
 },
 "nbformat": 4,
 "nbformat_minor": 5
}
