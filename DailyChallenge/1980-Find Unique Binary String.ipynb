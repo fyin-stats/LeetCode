{
 "cells": [
  {
   "cell_type": "code",
   "execution_count": 1,
   "id": "cd7e74af-6bd6-466c-8f02-ea777a5e4675",
   "metadata": {},
   "outputs": [],
   "source": [
    "# https://leetcode.com/problems/find-unique-binary-string/description/?envType=daily-question&envId=2025-02-20"
   ]
  },
  {
   "cell_type": "code",
   "execution_count": 3,
   "id": "ab5adc77-bda4-4172-9255-d3fa6ccd1e11",
   "metadata": {},
   "outputs": [],
   "source": [
    "# intuition: \n",
    "# backtrack to generate all possible answers\n",
    "# one straightforward idea is to convert nums to a set which will facilitate us checking the generated answer is already in nums"
   ]
  },
  {
   "cell_type": "code",
   "execution_count": 8,
   "id": "d544c961-2aee-470a-9137-cf98ce12b476",
   "metadata": {},
   "outputs": [],
   "source": [
    "class Solution:\n",
    "    def findDifferentBinaryString(self, nums):\n",
    "        \n",
    "        # convert nums to a set to facilitate string finding\n",
    "        nums_set = set(nums)\n",
    "        # then use backtrack to enumerate all possible binary strings\n",
    "        n = len(nums[0])\n",
    "        result = ''\n",
    "\n",
    "        def backtrack(i, curr_str):\n",
    "            nonlocal result\n",
    "            if i >= n:\n",
    "                if curr_str not in nums_set:\n",
    "                    result = curr_str\n",
    "                return\n",
    "            # q: can we end early?\n",
    "            # no need to explore further once we find the answer\n",
    "            if len(result) == n:\n",
    "                return\n",
    "\n",
    "            backtrack(i+1, curr_str + '0')\n",
    "            backtrack(i+1, curr_str + '1') # string concatenation can cost O(n)?\n",
    "        \n",
    "        backtrack(0, '')\n",
    "        return result"
   ]
  },
  {
   "cell_type": "code",
   "execution_count": 5,
   "id": "161ed403-f13f-4942-933e-a3b811ed7261",
   "metadata": {},
   "outputs": [
    {
     "data": {
      "text/plain": [
       "'00'"
      ]
     },
     "execution_count": 5,
     "metadata": {},
     "output_type": "execute_result"
    }
   ],
   "source": [
    "nums = [\"01\",\"10\"]\n",
    "\n",
    "sol = Solution()\n",
    "sol.findDifferentBinaryString(nums)"
   ]
  },
  {
   "cell_type": "code",
   "execution_count": null,
   "id": "063969f4-f595-4c53-8891-54d2f881638d",
   "metadata": {},
   "outputs": [],
   "source": [
    "# time complexity: O(2^n)\n",
    "# space complexity: O(n)?"
   ]
  },
  {
   "cell_type": "code",
   "execution_count": 9,
   "id": "369278c5-4008-4849-9c97-2904debe05f4",
   "metadata": {},
   "outputs": [],
   "source": [
    "class Solution:\n",
    "    def findDifferentBinaryString(self, nums):\n",
    "        \n",
    "        def generate(curr):\n",
    "            if len(curr) == n:\n",
    "                if curr not in nums:\n",
    "                    return curr\n",
    "                return \"\"\n",
    "            \n",
    "            add_zero = generate(curr + \"0\") # this is to ensure that at each index, we will either \n",
    "            if len(add_zero) == n:\n",
    "                return add_zero\n",
    "\n",
    "            return generate(curr + \"1\")\n",
    "\n",
    "        n = len(nums)\n",
    "        nums = set(nums)\n",
    "        return generate(\"\")"
   ]
  },
  {
   "cell_type": "code",
   "execution_count": 10,
   "id": "fdb3fe15-67e2-40a6-a80b-9efa5253a837",
   "metadata": {},
   "outputs": [
    {
     "data": {
      "text/plain": [
       "'00'"
      ]
     },
     "execution_count": 10,
     "metadata": {},
     "output_type": "execute_result"
    }
   ],
   "source": [
    "nums = [\"01\",\"10\"]\n",
    "\n",
    "sol = Solution()\n",
    "sol.findDifferentBinaryString(nums)"
   ]
  },
  {
   "cell_type": "code",
   "execution_count": null,
   "id": "db02c76b-dd76-49b0-9fb2-009d33336a6a",
   "metadata": {},
   "outputs": [],
   "source": [
    "# time: O(n^2)\n",
    "# We require O(n^2) to convert nums to a hash set.\n",
    "# Due to optimization, we check O(n) binary strings in our recursion. \n",
    "# At each call, we perform some string concatenation operations, which costs up to O(n)\n",
    "\n",
    "# space: O(n), recursion stack max length = n"
   ]
  }
 ],
 "metadata": {
  "kernelspec": {
   "display_name": "Python 3 (ipykernel)",
   "language": "python",
   "name": "python3"
  },
  "language_info": {
   "codemirror_mode": {
    "name": "ipython",
    "version": 3
   },
   "file_extension": ".py",
   "mimetype": "text/x-python",
   "name": "python",
   "nbconvert_exporter": "python",
   "pygments_lexer": "ipython3",
   "version": "3.12.3"
  }
 },
 "nbformat": 4,
 "nbformat_minor": 5
}
