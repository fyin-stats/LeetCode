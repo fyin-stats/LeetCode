{
 "cells": [
  {
   "cell_type": "code",
   "execution_count": 1,
   "id": "03ef804d-2eab-4e44-83c8-24a757f15aac",
   "metadata": {},
   "outputs": [],
   "source": [
    "# https://leetcode.com/problems/find-consecutive-integers-from-a-data-stream/description/"
   ]
  },
  {
   "cell_type": "code",
   "execution_count": 2,
   "id": "c40e4c32-24df-4a4f-a97a-9cd3a2022716",
   "metadata": {},
   "outputs": [],
   "source": [
    "# intuition: we can represent a list of numbers by segments\n",
    "# given that we only need to check if the last segment has >= k number of consecutive nums\n",
    "# we just need to keep track of the tail segment"
   ]
  },
  {
   "cell_type": "code",
   "execution_count": 3,
   "id": "de777461-7467-43f3-88db-d7eef4ad22b2",
   "metadata": {},
   "outputs": [],
   "source": [
    "class DataStream(object):\n",
    "\n",
    "    def __init__(self, value, k):\n",
    "        \"\"\"\n",
    "        :type value: int\n",
    "        :type k: int\n",
    "        \"\"\"\n",
    "        self.k = k\n",
    "        self.value = value\n",
    "        # can we use a list of tuples to represent a list of numbers?\n",
    "        # (x, k) represents k consecutive number x\n",
    "        self.last_segment = []\n",
    "\n",
    "    def consec(self, num):\n",
    "        \"\"\"\n",
    "        :type num: int\n",
    "        :rtype: bool\n",
    "        \"\"\"\n",
    "        if len(self.last_segment) == 0:\n",
    "            self.last_segment = [num, 1]\n",
    "        else:\n",
    "            if num == self.last_segment[0]:\n",
    "                self.last_segment[1] += 1\n",
    "            else:\n",
    "                self.last_segment = [num, 1]\n",
    "        return (self.last_segment[1] >= self.k and self.last_segment[0] == self.value)"
   ]
  },
  {
   "cell_type": "code",
   "execution_count": null,
   "id": "0c268764-c5d2-44b7-a44d-3349cd79b89a",
   "metadata": {},
   "outputs": [],
   "source": [
    "# Time: O(1), \n",
    "# Space: O(1), only need to keep track of and update  the last segment"
   ]
  }
 ],
 "metadata": {
  "kernelspec": {
   "display_name": "Python 3 (ipykernel)",
   "language": "python",
   "name": "python3"
  },
  "language_info": {
   "codemirror_mode": {
    "name": "ipython",
    "version": 3
   },
   "file_extension": ".py",
   "mimetype": "text/x-python",
   "name": "python",
   "nbconvert_exporter": "python",
   "pygments_lexer": "ipython3",
   "version": "3.12.3"
  }
 },
 "nbformat": 4,
 "nbformat_minor": 5
}
