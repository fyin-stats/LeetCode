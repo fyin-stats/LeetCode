{
 "cells": [
  {
   "cell_type": "code",
   "execution_count": 1,
   "id": "e662ecd1-3f67-4c7a-893c-cf133e741172",
   "metadata": {},
   "outputs": [],
   "source": [
    "# https://leetcode.com/problems/count-servers-that-communicate/description/"
   ]
  },
  {
   "cell_type": "code",
   "execution_count": 2,
   "id": "add7c4ee-2f2e-45c5-b80b-8125f27457ba",
   "metadata": {},
   "outputs": [],
   "source": [
    "# intuition: we just need to count servers that communicate with at least one other server\n",
    "# and we can iterate over each server, and check if there is at least one other server located on the same row or column with it"
   ]
  },
  {
   "cell_type": "code",
   "execution_count": 9,
   "id": "aa4e79b3-aa1f-42e8-b4d9-7e99cb2a2d1a",
   "metadata": {},
   "outputs": [],
   "source": [
    "class Solution(object):\n",
    "    def countServers(self, grid):\n",
    "        \"\"\"\n",
    "        :type grid: List[List[int]]\n",
    "        :rtype: int\n",
    "        \"\"\"\n",
    "        \n",
    "        m, n = len(grid), len(grid[0])\n",
    "\n",
    "        row_count = [0] * m\n",
    "        col_count = [0] * n\n",
    "        # servers = []\n",
    "\n",
    "        for i in range(m):\n",
    "            for j in range(n):\n",
    "                if grid[i][j] == 1:\n",
    "                    row_count[i] += 1\n",
    "                    col_count[j] += 1\n",
    "                    # servers.append((i, j))\n",
    "        \n",
    "        out = 0\n",
    "        for i in range(m):\n",
    "            for j in range(n):\n",
    "                if (grid[i][j] == 1) and (row_count[i] > 1 or col_count[j] > 1):\n",
    "                    out += 1\n",
    "        return out"
   ]
  },
  {
   "cell_type": "code",
   "execution_count": 10,
   "id": "a780a8ac-2d8d-4027-b75c-fc8c6b2dfef3",
   "metadata": {},
   "outputs": [
    {
     "data": {
      "text/plain": [
       "4"
      ]
     },
     "execution_count": 10,
     "metadata": {},
     "output_type": "execute_result"
    }
   ],
   "source": [
    "grid = [[1,1,0,0],[0,0,1,0],[0,0,1,0],[0,0,0,1]]\n",
    "\n",
    "sol = Solution()\n",
    "sol.countServers(grid)"
   ]
  },
  {
   "cell_type": "code",
   "execution_count": 11,
   "id": "0c59daae-e910-4632-a2c1-28b0c69951ce",
   "metadata": {},
   "outputs": [],
   "source": [
    "# time: O(m * n), iterate through the grid\n",
    "\n",
    "# space: O(m + n)"
   ]
  }
 ],
 "metadata": {
  "kernelspec": {
   "display_name": "Python 3 (ipykernel)",
   "language": "python",
   "name": "python3"
  },
  "language_info": {
   "codemirror_mode": {
    "name": "ipython",
    "version": 3
   },
   "file_extension": ".py",
   "mimetype": "text/x-python",
   "name": "python",
   "nbconvert_exporter": "python",
   "pygments_lexer": "ipython3",
   "version": "3.12.3"
  }
 },
 "nbformat": 4,
 "nbformat_minor": 5
}
