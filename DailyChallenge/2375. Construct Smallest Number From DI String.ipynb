{
 "cells": [
  {
   "cell_type": "code",
   "execution_count": 1,
   "id": "14a5ddcf-6151-43af-876b-aec442554310",
   "metadata": {},
   "outputs": [],
   "source": [
    "# https://leetcode.com/problems/construct-smallest-number-from-di-string/description/?envType=daily-question&envId=2025-02-18"
   ]
  },
  {
   "cell_type": "code",
   "execution_count": 13,
   "id": "7db8b511-09d4-4c10-a9be-61c802cc39cc",
   "metadata": {},
   "outputs": [],
   "source": [
    "# Intution:\n",
    "# Given the problem size is manageable (length <= 8), one idea could be backtrack\n",
    "# which would give the worse case time complexity factorial(9) = 362880\n",
    "\n",
    "# another idea is to do something greedy, when decreasing, start from as low as possible\n",
    "# when increasing, also start from as low as possible"
   ]
  },
  {
   "cell_type": "code",
   "execution_count": 3,
   "id": "7781cf6a-8db3-4030-be1b-ba7fc066c7f8",
   "metadata": {},
   "outputs": [],
   "source": [
    "# backtrack solution\n",
    "\n",
    "class Solution:\n",
    "    def smallestNumber(self, pattern):\n",
    "        \n",
    "        n = len(pattern) # note that final output would have length = n + 1\n",
    "        result = '9' * (n + 1)\n",
    "        curr_path = []\n",
    "        curr_set = set()\n",
    "\n",
    "        # keep track of the current results \n",
    "        def backtrack(i):\n",
    "            nonlocal result\n",
    "            if i >= n + 1:\n",
    "                temp_result = ''.join(curr_path)\n",
    "                if temp_result < result:\n",
    "                    result = temp_result\n",
    "                return\n",
    "            \n",
    "            if i == 0:\n",
    "                for j in range(1, 10):\n",
    "                    curr_set.add(j)\n",
    "                    curr_path.append(str(j))\n",
    "                    backtrack(i+1)\n",
    "                    curr_set.remove(j)\n",
    "                    curr_path.pop()\n",
    "            else:\n",
    "                if pattern[i-1] == 'I':\n",
    "                    for j in range(int(curr_path[-1]) + 1, 10):\n",
    "                        if j not in curr_set:\n",
    "                            curr_set.add(j)\n",
    "                            curr_path.append(str(j))\n",
    "                            backtrack(i+1)\n",
    "                            curr_set.remove(j)\n",
    "                            curr_path.pop()\n",
    "                else:\n",
    "                    for j in range(int(curr_path[-1]) -1, 0, -1):\n",
    "                        if j not in curr_set:\n",
    "                            curr_set.add(j)\n",
    "                            curr_path.append(str(j))\n",
    "                            backtrack(i+1)\n",
    "                            curr_set.remove(j)\n",
    "                            curr_path.pop()\n",
    "        \n",
    "        backtrack(0)\n",
    "        return result"
   ]
  },
  {
   "cell_type": "code",
   "execution_count": 14,
   "id": "57a87411-19c4-43eb-9ce6-66ba53c13e29",
   "metadata": {},
   "outputs": [],
   "source": [
    "# greedy solution\n",
    "class Solution:\n",
    "    def smallestNumber(self, pattern):\n",
    "\n",
    "        pattern = pattern + 'I'\n",
    "        result = ''\n",
    "        n = len(pattern)\n",
    "        stack = []\n",
    "        for i in range(1, n + 1):\n",
    "            stack.append(str(i))\n",
    "            if pattern[i-1] == 'I':\n",
    "                # pattern[i-1] separates the (i-1)-th string and the i-th string\n",
    "                result += ''.join(stack[::-1])\n",
    "                stack = []\n",
    "        return result"
   ]
  },
  {
   "cell_type": "code",
   "execution_count": 11,
   "id": "ac75916b-4352-41d9-a86d-f07beabe83f2",
   "metadata": {},
   "outputs": [
    {
     "data": {
      "text/plain": [
       "'123549876'"
      ]
     },
     "execution_count": 11,
     "metadata": {},
     "output_type": "execute_result"
    }
   ],
   "source": [
    "sol = Solution()\n",
    "sol.smallestNumber(\"IIIDIDDD\")"
   ]
  },
  {
   "cell_type": "code",
   "execution_count": 12,
   "id": "697c5f11-7c88-4579-8bb7-1f2ea8e27637",
   "metadata": {},
   "outputs": [],
   "source": [
    "# Time: Greedy -> O(n)\n",
    "# space: O(n), stack is equal to the length of pattern"
   ]
  }
 ],
 "metadata": {
  "kernelspec": {
   "display_name": "Python 3 (ipykernel)",
   "language": "python",
   "name": "python3"
  },
  "language_info": {
   "codemirror_mode": {
    "name": "ipython",
    "version": 3
   },
   "file_extension": ".py",
   "mimetype": "text/x-python",
   "name": "python",
   "nbconvert_exporter": "python",
   "pygments_lexer": "ipython3",
   "version": "3.12.3"
  }
 },
 "nbformat": 4,
 "nbformat_minor": 5
}
