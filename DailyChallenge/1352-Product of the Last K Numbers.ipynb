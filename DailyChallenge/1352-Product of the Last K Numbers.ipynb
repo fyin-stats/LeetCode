{
 "cells": [
  {
   "cell_type": "code",
   "execution_count": 2,
   "id": "0b7f74db-ad4e-46b8-9f82-d44b7ed46291",
   "metadata": {},
   "outputs": [],
   "source": [
    "# https://leetcode.com/problems/product-of-the-last-k-numbers/?envType=daily-question&envId=2025-02-14"
   ]
  },
  {
   "cell_type": "code",
   "execution_count": 3,
   "id": "a42f3615-67ac-4880-a515-fdd201b01bd6",
   "metadata": {},
   "outputs": [],
   "source": [
    "class ProductOfNumbers(object):\n",
    "\n",
    "    def __init__(self):\n",
    "        # keep track of the prefix_product, and if we counter any zeros\n",
    "        # start over again\n",
    "        self.prefix_prod = [1]\n",
    "\n",
    "    def add(self, num):\n",
    "        \"\"\"\n",
    "        :type num: int\n",
    "        :rtype: None\n",
    "        \"\"\"\n",
    "        if num == 0:\n",
    "            self.prefix_prod = [1]\n",
    "        else:\n",
    "            self.prefix_prod.append(self.prefix_prod[-1] * num)\n",
    "\n",
    "    def getProduct(self, k):\n",
    "        \"\"\"\n",
    "        :type k: int\n",
    "        :rtype: int\n",
    "        \"\"\"\n",
    "        if len(self.prefix_prod) <= k:\n",
    "            return 0\n",
    "        else:\n",
    "            return self.prefix_prod[-1] / self.prefix_prod[-k-1]"
   ]
  },
  {
   "cell_type": "code",
   "execution_count": 4,
   "id": "d2987d8c-a8f3-45e1-8d38-21279e9adf1a",
   "metadata": {},
   "outputs": [],
   "source": [
    "# Time: O(n)\n",
    "# Space: O(n)"
   ]
  }
 ],
 "metadata": {
  "kernelspec": {
   "display_name": "Python 3 (ipykernel)",
   "language": "python",
   "name": "python3"
  },
  "language_info": {
   "codemirror_mode": {
    "name": "ipython",
    "version": 3
   },
   "file_extension": ".py",
   "mimetype": "text/x-python",
   "name": "python",
   "nbconvert_exporter": "python",
   "pygments_lexer": "ipython3",
   "version": "3.12.3"
  }
 },
 "nbformat": 4,
 "nbformat_minor": 5
}
