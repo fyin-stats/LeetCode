{
 "cells": [
  {
   "cell_type": "code",
   "execution_count": 1,
   "id": "8f3de001-3807-4a1a-88b0-d41f66d8f1d1",
   "metadata": {},
   "outputs": [],
   "source": [
    "# https://leetcode.com/problems/maximum-number-of-fish-in-a-grid/description/"
   ]
  },
  {
   "cell_type": "code",
   "execution_count": 2,
   "id": "db81413a-e4bf-45db-ad59-a505bbeb995d",
   "metadata": {},
   "outputs": [],
   "source": [
    "# intuition: visit connected water area, keep updating the maximum number of fish that can \n",
    "# be caught"
   ]
  },
  {
   "cell_type": "code",
   "execution_count": 6,
   "id": "3d7a7fd8-f4bb-4726-94ad-83ff0d6a2791",
   "metadata": {},
   "outputs": [],
   "source": [
    "from collections import deque\n",
    "\n",
    "class Solution:\n",
    "    def findMaxFish(self, grid):\n",
    "        \n",
    "        directions = [(0, 1), (0, -1), (-1, 0), (1, 0)]\n",
    "        # can try to start with any cells and find the optimal one\n",
    "        m, n = len(grid), len(grid[0])\n",
    "        \n",
    "        out = 0\n",
    "        visited = set()\n",
    "        for r in range(m):\n",
    "            for c in range(n):\n",
    "                if grid[r][c] == 0:\n",
    "                    continue\n",
    "                if (r, c) not in visited:\n",
    "                    _queue = deque()\n",
    "                    _queue.append((r, c))\n",
    "                    visited.add((r, c))\n",
    "                    temp_result = 0\n",
    "                    while _queue:\n",
    "                        curr_r, curr_c = _queue.popleft()\n",
    "                        temp_result += grid[curr_r][curr_c]\n",
    "                        for dr, dc in directions:\n",
    "                            temp_r, temp_c = curr_r + dr, curr_c + dc\n",
    "                            if temp_r in range(m) and temp_c in range(n) and grid[temp_r][temp_c] > 0 and (temp_r, temp_c) not in visited:\n",
    "                                _queue.append((temp_r, temp_c))\n",
    "                                visited.add((temp_r, temp_c))\n",
    "                    out = max(out, temp_result)\n",
    "        return out"
   ]
  },
  {
   "cell_type": "code",
   "execution_count": 7,
   "id": "bbb93919-6d27-4089-bb7a-2b9794014a36",
   "metadata": {},
   "outputs": [
    {
     "data": {
      "text/plain": [
       "7"
      ]
     },
     "execution_count": 7,
     "metadata": {},
     "output_type": "execute_result"
    }
   ],
   "source": [
    "grid = [[0,2,1,0],[4,0,0,3],[1,0,0,4],[0,3,2,0]]\n",
    "\n",
    "sol = Solution()\n",
    "sol.findMaxFish(grid)"
   ]
  },
  {
   "cell_type": "code",
   "execution_count": 9,
   "id": "b258785b-a6b9-4b39-b7d8-e538b688bda1",
   "metadata": {},
   "outputs": [],
   "source": [
    "# time: O(m*n), b/c we visit each cell at most once\n",
    "# space: O(m*n), b/c we maintain a visited set"
   ]
  }
 ],
 "metadata": {
  "kernelspec": {
   "display_name": "Python 3 (ipykernel)",
   "language": "python",
   "name": "python3"
  },
  "language_info": {
   "codemirror_mode": {
    "name": "ipython",
    "version": 3
   },
   "file_extension": ".py",
   "mimetype": "text/x-python",
   "name": "python",
   "nbconvert_exporter": "python",
   "pygments_lexer": "ipython3",
   "version": "3.12.3"
  }
 },
 "nbformat": 4,
 "nbformat_minor": 5
}
