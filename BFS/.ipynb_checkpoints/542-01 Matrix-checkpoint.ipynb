{
 "cells": [
  {
   "cell_type": "code",
   "execution_count": 1,
   "id": "e9bc9ba2-dd48-4843-9c06-13b887c686df",
   "metadata": {},
   "outputs": [],
   "source": [
    "# https://leetcode.com/problems/01-matrix/description/"
   ]
  },
  {
   "cell_type": "code",
   "execution_count": 2,
   "id": "e5b009d8-ff6a-4cac-b0c2-7a1ab53abfef",
   "metadata": {},
   "outputs": [],
   "source": [
    "# idea: we can find all zeros, and then do level order BFS traversal from those nodes. Make sure to keep track of the current order\n",
    "# then every time we see a node with value = 1, we get the answer\n",
    "# note to use a set to keep track of the nodes already visited - avoid redundant visits to same node"
   ]
  },
  {
   "cell_type": "code",
   "execution_count": 4,
   "id": "1ab5fff5-fed9-4c3c-92b7-ba5dfe64d1e0",
   "metadata": {},
   "outputs": [],
   "source": [
    "from collections import deque\n",
    "\n",
    "class Solution:\n",
    "    def updateMatrix(self, mat):\n",
    "\n",
    "        def valid(row, col):\n",
    "            return 0 <= row < m and 0 <= col < n\n",
    "            \n",
    "        # idea: find all zeros, and start level order traversing from zeros\n",
    "        m, n = len(mat), len(mat[0])\n",
    "        result = [[0] * n for _ in range(m)]\n",
    "        _queue = deque()\n",
    "        visited = set()\n",
    "\n",
    "        for i in range(m):\n",
    "            for j in range(n):\n",
    "                if mat[i][j] == 0:\n",
    "                    # result[i][j] = 0\n",
    "                    _queue.append((i, j))\n",
    "                    visited.add((i, j))\n",
    "        \n",
    "        curr_dist = 0\n",
    "        directions = [(1, 0), (-1, 0), (0, 1), (0, -1)]\n",
    "        while _queue:\n",
    "            curr_level_size = len(_queue)\n",
    "            for i in range(curr_level_size):\n",
    "                curr_r, curr_c = _queue.popleft()\n",
    "                for dr, dc in directions:\n",
    "                    temp_r, temp_c = curr_r + dr, curr_c + dc\n",
    "                    if valid(temp_r, temp_c) and (temp_r, temp_c) not in visited:\n",
    "                        if mat[temp_r][temp_c] == 1:\n",
    "                            result[temp_r][temp_c] = curr_dist + 1\n",
    "                        _queue.append((temp_r, temp_c))\n",
    "                        visited.add((temp_r, temp_c))\n",
    "            curr_dist += 1\n",
    "        return result"
   ]
  },
  {
   "cell_type": "code",
   "execution_count": 5,
   "id": "90b2d418-fe25-4f0c-ac57-e2270a417124",
   "metadata": {},
   "outputs": [],
   "source": [
    "mat = [[0,0,0],[0,1,0],[1,1,1]]"
   ]
  },
  {
   "cell_type": "code",
   "execution_count": 6,
   "id": "9b69f5bf-a891-4626-9518-3ace41374419",
   "metadata": {},
   "outputs": [
    {
     "data": {
      "text/plain": [
       "[[0, 0, 0], [0, 1, 0], [1, 2, 1]]"
      ]
     },
     "execution_count": 6,
     "metadata": {},
     "output_type": "execute_result"
    }
   ],
   "source": [
    "sol = Solution()\n",
    "sol.updateMatrix(mat)"
   ]
  },
  {
   "cell_type": "code",
   "execution_count": 9,
   "id": "dde4352e-0f4f-451b-bbef-8c358711596a",
   "metadata": {},
   "outputs": [],
   "source": [
    "# time: O(m * n), we iterate through to find all zeros, and then we traverse through all nodes\n",
    "\n",
    "# space: O(m * n), queue and visited set"
   ]
  }
 ],
 "metadata": {
  "kernelspec": {
   "display_name": "Python 3 (ipykernel)",
   "language": "python",
   "name": "python3"
  },
  "language_info": {
   "codemirror_mode": {
    "name": "ipython",
    "version": 3
   },
   "file_extension": ".py",
   "mimetype": "text/x-python",
   "name": "python",
   "nbconvert_exporter": "python",
   "pygments_lexer": "ipython3",
   "version": "3.12.3"
  }
 },
 "nbformat": 4,
 "nbformat_minor": 5
}
