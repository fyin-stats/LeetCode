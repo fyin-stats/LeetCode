{
 "cells": [
  {
   "cell_type": "code",
   "execution_count": 1,
   "id": "8832c246-b791-4d01-91ba-d8972ad39a70",
   "metadata": {},
   "outputs": [],
   "source": [
    "# https://leetcode.com/problems/minimum-speed-to-arrive-on-time/"
   ]
  },
  {
   "cell_type": "code",
   "execution_count": 3,
   "id": "f4ff8567-7df5-4351-9cb4-a0b267d829f3",
   "metadata": {},
   "outputs": [],
   "source": [
    "# intuition: minimum -> search\n",
    "# we know the arrival time is a monotonic function of speed, the higher the speed, the smaller the travel time"
   ]
  },
  {
   "cell_type": "code",
   "execution_count": 4,
   "id": "04a67bee-4b43-4654-9f8e-02252b9a331b",
   "metadata": {},
   "outputs": [],
   "source": [
    "class Solution:\n",
    "    def minSpeedOnTime(self, dist, hour):\n",
    "        \n",
    "        import math\n",
    "        # Binary search\n",
    "        # time: O(nlogK)\n",
    "        # space: O(1)\n",
    "        n = len(dist)\n",
    "        left = 1\n",
    "        right = 10**7\n",
    "        result = -1\n",
    "\n",
    "        def helper(x):\n",
    "            # simuate\n",
    "            curr_time = 0\n",
    "            for i in range(n):\n",
    "                curr_time += dist[i] / x\n",
    "                if i < n - 1:\n",
    "                    curr_time = math.ceil(curr_time)\n",
    "                if curr_time > hour:\n",
    "                    return False\n",
    "            return True\n",
    "        \n",
    "        while left <= right:\n",
    "            mid = (left + right)//2\n",
    "            flag = helper(mid)\n",
    "            if flag:\n",
    "                result = mid\n",
    "                # try slower speed\n",
    "                right = mid - 1\n",
    "            else:\n",
    "                # need to go faster\n",
    "                left = mid + 1\n",
    "        return result"
   ]
  },
  {
   "cell_type": "code",
   "execution_count": 5,
   "id": "dec0db71-f051-4f87-9752-eb8ead23cc53",
   "metadata": {},
   "outputs": [
    {
     "data": {
      "text/plain": [
       "3"
      ]
     },
     "execution_count": 5,
     "metadata": {},
     "output_type": "execute_result"
    }
   ],
   "source": [
    "sol = Solution()\n",
    "sol.minSpeedOnTime([1,3,2], 2.7)"
   ]
  },
  {
   "cell_type": "code",
   "execution_count": 6,
   "id": "6944fcf2-8a5b-4d69-9332-a26e9624bc9a",
   "metadata": {},
   "outputs": [],
   "source": [
    "# Time Complexity: O(n logK), where K is the search space\n",
    "# Space Complexity: O(1)"
   ]
  }
 ],
 "metadata": {
  "kernelspec": {
   "display_name": "Python 3 (ipykernel)",
   "language": "python",
   "name": "python3"
  },
  "language_info": {
   "codemirror_mode": {
    "name": "ipython",
    "version": 3
   },
   "file_extension": ".py",
   "mimetype": "text/x-python",
   "name": "python",
   "nbconvert_exporter": "python",
   "pygments_lexer": "ipython3",
   "version": "3.12.3"
  }
 },
 "nbformat": 4,
 "nbformat_minor": 5
}
