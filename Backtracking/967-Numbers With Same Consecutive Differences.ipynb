{
 "cells": [
  {
   "cell_type": "code",
   "execution_count": 2,
   "id": "590fbd84-731c-462e-8046-a54345952938",
   "metadata": {},
   "outputs": [],
   "source": [
    "# https://leetcode.com/problems/numbers-with-same-consecutive-differences/description/"
   ]
  },
  {
   "cell_type": "markdown",
   "id": "22f7a172-2d45-4ab0-b3fa-adf3df5fbf9a",
   "metadata": {},
   "source": [
    "# Solution 1"
   ]
  },
  {
   "cell_type": "code",
   "execution_count": 4,
   "id": "81c72840-86ad-4f5d-a384-708c6835b665",
   "metadata": {},
   "outputs": [],
   "source": [
    "class Solution:\n",
    "    def numsSameConsecDiff(self, n, k):\n",
    "        \n",
    "        # time: O(10^n)\n",
    "        # space: O(n)\n",
    "        # at each digit, we will visit all possible numbers\n",
    "        out = []\n",
    "        curr_path = []\n",
    "\n",
    "        def backtrack(i):\n",
    "            if i >= n:\n",
    "                out.append(int(''.join([str(x) for x in curr_path])))\n",
    "                # out.append(sum([x * 10**(n-i-1) for i, x in enumerate(curr_path)]))\n",
    "                return\n",
    "            \n",
    "            if i == 0:\n",
    "                for j in range(1, 10):\n",
    "                    curr_path.append(j)\n",
    "                    backtrack(i+1)\n",
    "                    curr_path.pop()\n",
    "            else:\n",
    "                # i > 0, can consider 0 as candidate value\n",
    "                for j in range(10):\n",
    "                    if abs(j - curr_path[-1]) == k:\n",
    "                        curr_path.append(j)\n",
    "                        backtrack(i+1)\n",
    "                        curr_path.pop()\n",
    "        backtrack(0)\n",
    "        return out"
   ]
  },
  {
   "cell_type": "code",
   "execution_count": 6,
   "id": "d5e3e831-ae50-4588-b9cf-88b3c9dcaa08",
   "metadata": {},
   "outputs": [
    {
     "data": {
      "text/plain": [
       "[181, 292, 707, 818, 929]"
      ]
     },
     "execution_count": 6,
     "metadata": {},
     "output_type": "execute_result"
    }
   ],
   "source": [
    "# \n",
    "sol = Solution()\n",
    "sol.numsSameConsecDiff(3, 7)"
   ]
  },
  {
   "cell_type": "code",
   "execution_count": 10,
   "id": "cc78cb03-d367-4e15-8995-c871ab476054",
   "metadata": {},
   "outputs": [],
   "source": [
    "# time complexity: O(n * 10^n) # this reflects the cost of writing the answer\n",
    "\n",
    "# space complexity: O(10^n + n)"
   ]
  }
 ],
 "metadata": {
  "kernelspec": {
   "display_name": "Python 3 (ipykernel)",
   "language": "python",
   "name": "python3"
  },
  "language_info": {
   "codemirror_mode": {
    "name": "ipython",
    "version": 3
   },
   "file_extension": ".py",
   "mimetype": "text/x-python",
   "name": "python",
   "nbconvert_exporter": "python",
   "pygments_lexer": "ipython3",
   "version": "3.12.3"
  }
 },
 "nbformat": 4,
 "nbformat_minor": 5
}
