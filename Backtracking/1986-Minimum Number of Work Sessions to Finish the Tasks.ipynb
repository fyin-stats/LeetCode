{
 "cells": [
  {
   "cell_type": "code",
   "execution_count": null,
   "id": "7463c776-46c7-4b54-9051-b3de28e910ab",
   "metadata": {},
   "outputs": [],
   "source": [
    "# https://leetcode.com/problems/minimum-number-of-work-sessions-to-finish-the-tasks/description/"
   ]
  },
  {
   "cell_type": "code",
   "execution_count": 1,
   "id": "69ca6ae7-1ab8-4cc7-a14b-ffb93eaf4f78",
   "metadata": {},
   "outputs": [],
   "source": [
    "# intuition: when seeing the keyword \"minimum\" in the problem description, my first reaction is to do binary search\n",
    "# but it turns out that we don't have a large range to search, and it is not easy to come up with a good way to determine\n",
    "# whether a given number of work sessions is feasible or not\n",
    "# consider that the number of tasks is between 1 and 14, I started thinking about backtracking"
   ]
  },
  {
   "cell_type": "code",
   "execution_count": 2,
   "id": "18b85a23-cab7-4ecd-ade0-5045ab8fad24",
   "metadata": {},
   "outputs": [],
   "source": [
    "# idea: sort the tasks from large to smaller, and then we explore how we should assign tasks into\n",
    "# sessions"
   ]
  },
  {
   "cell_type": "code",
   "execution_count": 4,
   "id": "75e2d979-d248-426a-9122-fc02e42aa0bd",
   "metadata": {},
   "outputs": [],
   "source": [
    "class Solution:\n",
    "    def minSessions(self, tasks, sessionTime):\n",
    "\n",
    "        tasks.sort(reverse = True) # from longest to shortest tasks\n",
    "        n = len(tasks)\n",
    "        out = n\n",
    "        sessions = []\n",
    "        \n",
    "        def backtrack(i):\n",
    "            nonlocal out\n",
    "            nonlocal sessions\n",
    "            if i >= n:\n",
    "                out = min(out, len(sessions))\n",
    "                return\n",
    "            \n",
    "            if len(sessions) >= out:\n",
    "                # no need to keep checking if taking more than current best result\n",
    "                return\n",
    "            \n",
    "            for j in range(len(sessions)):\n",
    "                if tasks[i] + sessions[j] <= sessionTime:\n",
    "                    sessions[j] += tasks[i]\n",
    "                    backtrack(i+1)\n",
    "                    sessions[j] -= tasks[i]\n",
    "            \n",
    "            sessions = sessions + [tasks[i]]\n",
    "            backtrack(i+1)\n",
    "            sessions.pop()\n",
    "        \n",
    "        backtrack(0)\n",
    "        return out"
   ]
  },
  {
   "cell_type": "code",
   "execution_count": 5,
   "id": "9f61813f-4035-4676-b3f0-0419ee320c26",
   "metadata": {},
   "outputs": [],
   "source": [
    "tasks = [3,1,3,1,1]\n",
    "sessionTime = 8"
   ]
  },
  {
   "cell_type": "code",
   "execution_count": 7,
   "id": "a811ce5a-5ab8-42a7-81fc-5f0cbedcd33f",
   "metadata": {},
   "outputs": [
    {
     "data": {
      "text/plain": [
       "2"
      ]
     },
     "execution_count": 7,
     "metadata": {},
     "output_type": "execute_result"
    }
   ],
   "source": [
    "sol = Solution()\n",
    "sol.minSessions(tasks, sessionTime)"
   ]
  },
  {
   "cell_type": "code",
   "execution_count": 8,
   "id": "f0beada3-62b6-42b7-83ed-7c9519ebccca",
   "metadata": {},
   "outputs": [],
   "source": [
    "# time: O(nlog) + O(2^n)\n",
    "# sort tasks O(nlogn)\n",
    "# backtracking: O(2^0 + ... + 2^(n-1)) - the first element can only be in the first session\n",
    "# as we go to later elements, it needs to choose between up to (n-1) sessions\n",
    "\n",
    "# space: O(n)"
   ]
  }
 ],
 "metadata": {
  "kernelspec": {
   "display_name": "Python 3 (ipykernel)",
   "language": "python",
   "name": "python3"
  },
  "language_info": {
   "codemirror_mode": {
    "name": "ipython",
    "version": 3
   },
   "file_extension": ".py",
   "mimetype": "text/x-python",
   "name": "python",
   "nbconvert_exporter": "python",
   "pygments_lexer": "ipython3",
   "version": "3.12.3"
  }
 },
 "nbformat": 4,
 "nbformat_minor": 5
}
