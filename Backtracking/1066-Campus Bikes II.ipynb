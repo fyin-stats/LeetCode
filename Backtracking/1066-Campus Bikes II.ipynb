{
 "cells": [
  {
   "cell_type": "code",
   "execution_count": null,
   "id": "7285157f-3e13-4032-92f9-d456579a020b",
   "metadata": {},
   "outputs": [],
   "source": [
    "# https://leetcode.com/problems/campus-bikes-ii/description/"
   ]
  },
  {
   "cell_type": "markdown",
   "id": "72248629-33f4-43ad-b56e-b17f5421ee15",
   "metadata": {},
   "source": [
    "# Solution 1: Backtracking"
   ]
  },
  {
   "cell_type": "code",
   "execution_count": 4,
   "id": "0f15d57d-ab04-49a9-aabf-8472358931cd",
   "metadata": {},
   "outputs": [],
   "source": [
    "class Solution:\n",
    "    def assignBikes(self, workers, bikes):\n",
    "\n",
    "        n = len(workers)\n",
    "        m = len(bikes)\n",
    "        dist_matrix = [[0] * m for _ in range(n)] # n by m matrix\n",
    "        for i in range(n):\n",
    "            for j in range(m):\n",
    "                dist_matrix[i][j] = abs(workers[i][0] - bikes[j][0]) + abs(workers[i][1] - bikes[j][1])\n",
    "        \n",
    "        out = float('inf')\n",
    "        bikes_set = set()\n",
    "        def backtrack(i, curr_sum):\n",
    "            nonlocal out\n",
    "            if i >= n:\n",
    "                out = min(out, curr_sum)\n",
    "                return\n",
    "            \n",
    "            if curr_sum >= out:\n",
    "                # no need to explore this solution path, terminate early\n",
    "                return\n",
    "            \n",
    "            for j in range(m):\n",
    "                if j not in bikes_set:\n",
    "                    bikes_set.add(j)\n",
    "                    backtrack(i+1, curr_sum + dist_matrix[i][j])\n",
    "                    bikes_set.remove(j)\n",
    "        \n",
    "        backtrack(0, 0)\n",
    "        return out"
   ]
  },
  {
   "cell_type": "code",
   "execution_count": 3,
   "id": "597daf53-73d5-40b0-b284-8dce346f7549",
   "metadata": {},
   "outputs": [
    {
     "data": {
      "text/plain": [
       "4"
      ]
     },
     "execution_count": 3,
     "metadata": {},
     "output_type": "execute_result"
    }
   ],
   "source": [
    "workers = [[0,0],[1,1],[2,0]]\n",
    "bikes = [[1,0],[2,2],[2,1]]\n",
    "\n",
    "sol = Solution()\n",
    "sol.assignBikes(workers, bikes)"
   ]
  },
  {
   "cell_type": "code",
   "execution_count": null,
   "id": "43975f18-53f8-4e1b-bc6e-152e4ec3a1db",
   "metadata": {},
   "outputs": [],
   "source": [
    "# time complexity: O(n*m!)\n",
    "## O(n*m) for calculating distances\n",
    "## O(n*m + n*(m-1) + ... + O(n*(m-n)) ~ O(n*m!) for exploring solution space\n",
    "\n",
    "# space complexity: O(n*m)\n",
    "## O(n*m) for storing distance matrix\n",
    "## O(m) for keeping track of whether this bike has been taken\n",
    "# O(n) for recursion stack space"
   ]
  },
  {
   "cell_type": "markdown",
   "id": "af98787f-5cb0-467b-b302-702d1ea7132a",
   "metadata": {},
   "source": [
    "# Solution 2: Priority Queue"
   ]
  },
  {
   "cell_type": "code",
   "execution_count": 17,
   "id": "77e53816-d409-4561-9c34-fc84ae61c65d",
   "metadata": {},
   "outputs": [],
   "source": [
    "import heapq\n",
    "\n",
    "class Solution(object):\n",
    "    def assignBikes(self, workers, bikes):\n",
    "        \"\"\"\n",
    "        :type workers: List[List[int]]\n",
    "        :type bikes: List[List[int]]\n",
    "        :rtype: int\n",
    "        \"\"\"\n",
    "        \n",
    "        def dis(i, j):\n",
    "            return abs(workers[i][0] - bikes[j][0]) + abs(workers[i][1] - bikes[j][1])\n",
    "            \n",
    "        h = [[0, 0, 0]] # heap\n",
    "        seen = set()\n",
    "        \n",
    "        while True:\n",
    "            cost, i, taken = heapq.heappop(h)\n",
    "            if (i, taken) in seen: \n",
    "                continue\n",
    "            seen.add((i, taken))\n",
    "            if i == len(workers):\n",
    "                return cost # keep track of total cost\n",
    "            for j in range(len(bikes)):\n",
    "                if taken & (1 << j) == 0:\n",
    "                    heapq.heappush(h, [cost + dis(i, j), i + 1, taken | (1 << j)])\n",
    "\n",
    "\n",
    "from heapq import heappush, heappop\n",
    "class Solution:\n",
    "        def assignBikes(self, workers, bikes):\n",
    "\n",
    "            def get_distance(worker, bike):\n",
    "                return abs(worker[0] - bike[0]) + abs(worker[1] - bike[1])\n",
    "        \n",
    "            bike_used = [0] * len(bikes)\n",
    "            heap = [(0, 0, tuple(bike_used))]\n",
    "            distance = {0: 0}\n",
    "            \n",
    "            while heap:\n",
    "                curr_cost, curr_worker, bike_used = heappop(heap)\n",
    "                if curr_worker == len(workers):\n",
    "                    return curr_cost\n",
    "                for i, bike in enumerate(bikes):\n",
    "                    if bike_used[i]:\n",
    "                        continue\n",
    "                    n_bike_used = bike_used[:i] + (1,) + bike_used[i+1:]\n",
    "                    bike_state = tuple(n_bike_used)\n",
    "                    next_cost = curr_cost + get_distance(workers[curr_worker], bikes[i])\n",
    "                    if bike_state in distance and distance[bike_state] <= next_cost:\n",
    "                        continue\n",
    "                    heappush(heap, (next_cost, curr_worker + 1, bike_state))\n",
    "                    distance[bike_state] = next_cost\n",
    "    \n",
    "            return -1\n",
    "\n",
    "# https://leetcode.com/problems/campus-bikes-ii/solutions/4489523/java-python-dijkstra-s-and-memorization-bitmask-brutal-force-backtracing/"
   ]
  },
  {
   "cell_type": "code",
   "execution_count": 18,
   "id": "30179683-03f1-4f00-8cf8-6ce3215c038b",
   "metadata": {},
   "outputs": [
    {
     "data": {
      "text/plain": [
       "4"
      ]
     },
     "execution_count": 18,
     "metadata": {},
     "output_type": "execute_result"
    }
   ],
   "source": [
    "workers = [[0,0],[1,1],[2,0]]\n",
    "bikes = [[1,0],[2,2],[2,1]]\n",
    "\n",
    "sol = Solution()\n",
    "sol.assignBikes(workers, bikes)"
   ]
  },
  {
   "cell_type": "code",
   "execution_count": null,
   "id": "5632f443-f87c-4ce8-8049-f29aa20e5e30",
   "metadata": {},
   "outputs": [],
   "source": [
    "# Explanation\n",
    "# i means worker i.\n",
    "\n",
    "# taken is a binary state representation of all bikes. each bit in taken correspond to bike's status: assigned or not\n",
    "\n",
    "# cost means current distance after assign first i workers using state taken.\n",
    "\n",
    "# the approach here to use BFS to iterate all (i, taken) combination and use Priority queue to do greedy search by current distance\n",
    "# the most important part is to iterate all (i, taken) to (i+1, new_taken) until i reach n (all workers are assigned with bike)"
   ]
  },
  {
   "cell_type": "code",
   "execution_count": null,
   "id": "66c4ce35-5677-4618-a86b-b4e32911d0c8",
   "metadata": {},
   "outputs": [],
   "source": [
    "# time complexity\n",
    "\n",
    "# space complexity"
   ]
  }
 ],
 "metadata": {
  "kernelspec": {
   "display_name": "Python 3 (ipykernel)",
   "language": "python",
   "name": "python3"
  },
  "language_info": {
   "codemirror_mode": {
    "name": "ipython",
    "version": 3
   },
   "file_extension": ".py",
   "mimetype": "text/x-python",
   "name": "python",
   "nbconvert_exporter": "python",
   "pygments_lexer": "ipython3",
   "version": "3.12.3"
  }
 },
 "nbformat": 4,
 "nbformat_minor": 5
}
