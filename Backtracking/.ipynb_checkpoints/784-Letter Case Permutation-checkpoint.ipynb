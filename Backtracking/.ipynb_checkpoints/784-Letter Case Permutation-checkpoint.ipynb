{
 "cells": [
  {
   "cell_type": "code",
   "execution_count": 2,
   "id": "188e7125-a8d4-48db-967f-7205a06833a5",
   "metadata": {},
   "outputs": [],
   "source": [
    "# https://leetcode.com/problems/letter-case-permutation/description/"
   ]
  },
  {
   "cell_type": "code",
   "execution_count": 3,
   "id": "168a3c4a-ba25-4465-a5d4-a66c5826e24c",
   "metadata": {},
   "outputs": [],
   "source": [
    "class Solution:\n",
    "    def letterCasePermutation(self, s):\n",
    "        \n",
    "        n = len(s)\n",
    "        out = []\n",
    "        curr_path = []\n",
    "\n",
    "        def backtrack(i):\n",
    "            if i >= n:\n",
    "                out.append(''.join(curr_path))\n",
    "                return\n",
    "            \n",
    "            if s[i].isdigit():\n",
    "                # no operation needed\n",
    "                curr_path.append(s[i])\n",
    "                backtrack(i+1)\n",
    "                curr_path.pop()\n",
    "            elif (ord(s[i]) - ord('a')) in range(26):\n",
    "                # currently it is lower case\n",
    "                curr_path.append(s[i])\n",
    "                backtrack(i+1)\n",
    "                curr_path.pop()\n",
    "                curr_path.append(s[i].upper())\n",
    "                backtrack(i+1)\n",
    "                curr_path.pop()\n",
    "            else:\n",
    "                # currently it is upper case\n",
    "                curr_path.append(s[i])\n",
    "                backtrack(i+1)\n",
    "                curr_path.pop()\n",
    "                curr_path.append(s[i].lower())\n",
    "                backtrack(i+1)\n",
    "                curr_path.pop()\n",
    "        \n",
    "        backtrack(0)\n",
    "        return out"
   ]
  },
  {
   "cell_type": "code",
   "execution_count": 4,
   "id": "8bf8bfff-27a0-4a79-86c8-eab6c64e9e98",
   "metadata": {},
   "outputs": [
    {
     "data": {
      "text/plain": [
       "['a1b2', 'a1B2', 'A1b2', 'A1B2']"
      ]
     },
     "execution_count": 4,
     "metadata": {},
     "output_type": "execute_result"
    }
   ],
   "source": [
    "sol = Solution()\n",
    "sol.letterCasePermutation('a1b2')"
   ]
  },
  {
   "cell_type": "code",
   "execution_count": null,
   "id": "3ba3f390-cc03-4547-8689-e063192a2175",
   "metadata": {},
   "outputs": [],
   "source": [
    "# time complexity: O(n * 2^n), reflecting the complexity of writing the answer\n",
    "\n",
    "# space complexity: O(n * 2^n)"
   ]
  }
 ],
 "metadata": {
  "kernelspec": {
   "display_name": "Python 3 (ipykernel)",
   "language": "python",
   "name": "python3"
  },
  "language_info": {
   "codemirror_mode": {
    "name": "ipython",
    "version": 3
   },
   "file_extension": ".py",
   "mimetype": "text/x-python",
   "name": "python",
   "nbconvert_exporter": "python",
   "pygments_lexer": "ipython3",
   "version": "3.12.3"
  }
 },
 "nbformat": 4,
 "nbformat_minor": 5
}
