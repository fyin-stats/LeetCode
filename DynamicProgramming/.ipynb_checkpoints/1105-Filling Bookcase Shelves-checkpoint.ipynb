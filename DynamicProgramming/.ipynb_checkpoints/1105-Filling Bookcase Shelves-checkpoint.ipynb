{
 "cells": [
  {
   "cell_type": "code",
   "execution_count": 1,
   "id": "0b78bb5c-a305-457a-a64d-3453062ebb5b",
   "metadata": {},
   "outputs": [],
   "source": [
    "# https://leetcode.com/problems/filling-bookcase-shelves/description/"
   ]
  },
  {
   "cell_type": "code",
   "execution_count": 2,
   "id": "7b2b091d-39c3-47c0-852d-1c2cb1be10b9",
   "metadata": {},
   "outputs": [],
   "source": [
    "# intuition: we need to iteratively build solutions, and along the road we need to keep track of the width of current \n",
    "# row, and the current height\n",
    "\n",
    "# define a helper function that returns the minimum height if we start from book i, with the width of the current row, and the current height"
   ]
  },
  {
   "cell_type": "code",
   "execution_count": 3,
   "id": "70f6cf17-1375-4150-9e02-a31ab1f10976",
   "metadata": {},
   "outputs": [],
   "source": [
    "class Solution(object):\n",
    "    def minHeightShelves(self, books, shelfWidth):\n",
    "        \"\"\"\n",
    "        :type books: List[List[int]]\n",
    "        :type shelfWidth: int\n",
    "        :rtype: int\n",
    "        \"\"\"\n",
    "\n",
    "        n = len(books)\n",
    "        memo = dict()\n",
    "\n",
    "        def helper(i, remain_w, curr_h):\n",
    "            if i == n:\n",
    "                # no more height can be added\n",
    "                return curr_h\n",
    "            \n",
    "            if (i, remain_w, curr_h) in memo:\n",
    "                return memo[(i, remain_w, curr_h)]\n",
    "            \n",
    "            w, h = books[i][0], books[i][1]\n",
    "            # two options: placing at current level, or at next level\n",
    "            result = float('inf')\n",
    "            # if next level\n",
    "            result = min(result, helper(i + 1, shelfWidth - w, h) + curr_h) # heights if placed on new level\n",
    "            # if current level\n",
    "            if w <= remain_w:\n",
    "                result = min(result, helper(i + 1, remain_w - w, max(h, curr_h))) # heights if placed on current level\n",
    "            \n",
    "            memo[(i, remain_w, curr_h)] = result\n",
    "            return result\n",
    "        \n",
    "        return helper(0, shelfWidth, 0)"
   ]
  },
  {
   "cell_type": "code",
   "execution_count": 4,
   "id": "3731dba9-7b95-412a-9913-4b06a67e306a",
   "metadata": {},
   "outputs": [],
   "source": [
    "books = [[1,1],[2,3],[2,3],[1,1],[1,1],[1,1],[1,2]]\n",
    "shelfWidth = 4"
   ]
  },
  {
   "cell_type": "code",
   "execution_count": 5,
   "id": "cda46769-7a5d-41a5-8064-c39e5f0e5c5b",
   "metadata": {},
   "outputs": [
    {
     "data": {
      "text/plain": [
       "6"
      ]
     },
     "execution_count": 5,
     "metadata": {},
     "output_type": "execute_result"
    }
   ],
   "source": [
    "sol = Solution()\n",
    "sol.minHeightShelves(books, shelfWidth)"
   ]
  },
  {
   "cell_type": "code",
   "execution_count": 7,
   "id": "4dfa493c-7551-4f81-9401-e8d9848e7b4f",
   "metadata": {},
   "outputs": [],
   "source": [
    "# time: O(n * shelfWidth)\n",
    "# Each book can potentially be placed in multiple ways, but memoization ensures each state is computed only once.\n",
    "\n",
    "# space: O(n * shelfWidth)\n",
    "# for the memoization dictionary and the call stack."
   ]
  }
 ],
 "metadata": {
  "kernelspec": {
   "display_name": "Python 3 (ipykernel)",
   "language": "python",
   "name": "python3"
  },
  "language_info": {
   "codemirror_mode": {
    "name": "ipython",
    "version": 3
   },
   "file_extension": ".py",
   "mimetype": "text/x-python",
   "name": "python",
   "nbconvert_exporter": "python",
   "pygments_lexer": "ipython3",
   "version": "3.12.3"
  }
 },
 "nbformat": 4,
 "nbformat_minor": 5
}
